{
 "cells": [
  {
   "cell_type": "markdown",
   "id": "d43fe98e",
   "metadata": {},
   "source": [
    "## Loading Data and pandas library"
   ]
  },
  {
   "cell_type": "code",
   "execution_count": 1,
   "id": "8bff142e",
   "metadata": {},
   "outputs": [
    {
     "data": {
      "text/html": [
       "<div>\n",
       "<style scoped>\n",
       "    .dataframe tbody tr th:only-of-type {\n",
       "        vertical-align: middle;\n",
       "    }\n",
       "\n",
       "    .dataframe tbody tr th {\n",
       "        vertical-align: top;\n",
       "    }\n",
       "\n",
       "    .dataframe thead th {\n",
       "        text-align: right;\n",
       "    }\n",
       "</style>\n",
       "<table border=\"1\" class=\"dataframe\">\n",
       "  <thead>\n",
       "    <tr style=\"text-align: right;\">\n",
       "      <th></th>\n",
       "      <th>0</th>\n",
       "      <th>1</th>\n",
       "      <th>2</th>\n",
       "      <th>3</th>\n",
       "      <th>4</th>\n",
       "      <th>5</th>\n",
       "      <th>6</th>\n",
       "      <th>7</th>\n",
       "      <th>8</th>\n",
       "      <th>9</th>\n",
       "      <th>10</th>\n",
       "      <th>11</th>\n",
       "      <th>12</th>\n",
       "      <th>13</th>\n",
       "      <th>14</th>\n",
       "    </tr>\n",
       "  </thead>\n",
       "  <tbody>\n",
       "    <tr>\n",
       "      <th>0</th>\n",
       "      <td>39</td>\n",
       "      <td>State-gov</td>\n",
       "      <td>77516</td>\n",
       "      <td>Bachelors</td>\n",
       "      <td>13</td>\n",
       "      <td>Never-married</td>\n",
       "      <td>Adm-clerical</td>\n",
       "      <td>Not-in-family</td>\n",
       "      <td>White</td>\n",
       "      <td>Male</td>\n",
       "      <td>2174</td>\n",
       "      <td>0</td>\n",
       "      <td>40</td>\n",
       "      <td>United-States</td>\n",
       "      <td>&lt;=50K</td>\n",
       "    </tr>\n",
       "    <tr>\n",
       "      <th>1</th>\n",
       "      <td>50</td>\n",
       "      <td>Self-emp-not-inc</td>\n",
       "      <td>83311</td>\n",
       "      <td>Bachelors</td>\n",
       "      <td>13</td>\n",
       "      <td>Married-civ-spouse</td>\n",
       "      <td>Exec-managerial</td>\n",
       "      <td>Husband</td>\n",
       "      <td>White</td>\n",
       "      <td>Male</td>\n",
       "      <td>0</td>\n",
       "      <td>0</td>\n",
       "      <td>13</td>\n",
       "      <td>United-States</td>\n",
       "      <td>&lt;=50K</td>\n",
       "    </tr>\n",
       "    <tr>\n",
       "      <th>2</th>\n",
       "      <td>38</td>\n",
       "      <td>Private</td>\n",
       "      <td>215646</td>\n",
       "      <td>HS-grad</td>\n",
       "      <td>9</td>\n",
       "      <td>Divorced</td>\n",
       "      <td>Handlers-cleaners</td>\n",
       "      <td>Not-in-family</td>\n",
       "      <td>White</td>\n",
       "      <td>Male</td>\n",
       "      <td>0</td>\n",
       "      <td>0</td>\n",
       "      <td>40</td>\n",
       "      <td>United-States</td>\n",
       "      <td>&lt;=50K</td>\n",
       "    </tr>\n",
       "    <tr>\n",
       "      <th>3</th>\n",
       "      <td>53</td>\n",
       "      <td>Private</td>\n",
       "      <td>234721</td>\n",
       "      <td>11th</td>\n",
       "      <td>7</td>\n",
       "      <td>Married-civ-spouse</td>\n",
       "      <td>Handlers-cleaners</td>\n",
       "      <td>Husband</td>\n",
       "      <td>Black</td>\n",
       "      <td>Male</td>\n",
       "      <td>0</td>\n",
       "      <td>0</td>\n",
       "      <td>40</td>\n",
       "      <td>United-States</td>\n",
       "      <td>&lt;=50K</td>\n",
       "    </tr>\n",
       "    <tr>\n",
       "      <th>4</th>\n",
       "      <td>28</td>\n",
       "      <td>Private</td>\n",
       "      <td>338409</td>\n",
       "      <td>Bachelors</td>\n",
       "      <td>13</td>\n",
       "      <td>Married-civ-spouse</td>\n",
       "      <td>Prof-specialty</td>\n",
       "      <td>Wife</td>\n",
       "      <td>Black</td>\n",
       "      <td>Female</td>\n",
       "      <td>0</td>\n",
       "      <td>0</td>\n",
       "      <td>40</td>\n",
       "      <td>Cuba</td>\n",
       "      <td>&lt;=50K</td>\n",
       "    </tr>\n",
       "  </tbody>\n",
       "</table>\n",
       "</div>"
      ],
      "text/plain": [
       "   0                  1       2           3   4                    5   \\\n",
       "0  39          State-gov   77516   Bachelors  13        Never-married   \n",
       "1  50   Self-emp-not-inc   83311   Bachelors  13   Married-civ-spouse   \n",
       "2  38            Private  215646     HS-grad   9             Divorced   \n",
       "3  53            Private  234721        11th   7   Married-civ-spouse   \n",
       "4  28            Private  338409   Bachelors  13   Married-civ-spouse   \n",
       "\n",
       "                   6               7       8        9     10  11  12  \\\n",
       "0        Adm-clerical   Not-in-family   White     Male  2174   0  40   \n",
       "1     Exec-managerial         Husband   White     Male     0   0  13   \n",
       "2   Handlers-cleaners   Not-in-family   White     Male     0   0  40   \n",
       "3   Handlers-cleaners         Husband   Black     Male     0   0  40   \n",
       "4      Prof-specialty            Wife   Black   Female     0   0  40   \n",
       "\n",
       "               13      14  \n",
       "0   United-States   <=50K  \n",
       "1   United-States   <=50K  \n",
       "2   United-States   <=50K  \n",
       "3   United-States   <=50K  \n",
       "4            Cuba   <=50K  "
      ]
     },
     "execution_count": 1,
     "metadata": {},
     "output_type": "execute_result"
    }
   ],
   "source": [
    "import pandas as pd\n",
    "census_df = pd.read_csv(\"adult.data\", header=None) #good way of opening .data file in pd when headers are not provided\n",
    "census_df.head()"
   ]
  },
  {
   "cell_type": "code",
   "execution_count": 2,
   "id": "73f8aca3",
   "metadata": {},
   "outputs": [
    {
     "name": "stdout",
     "output_type": "stream",
     "text": [
      "        0        1   2   3\n",
      "0    Amar    Alpha  23  69\n",
      "1  Barsha    Bravo  25  54\n",
      "2  Carlos  Charlie  22  73\n",
      "3  Tanmay    Tango  27  70\n",
      "4  Misbah     Mike  29  74\n"
     ]
    }
   ],
   "source": [
    "#Extra note on how to make dataframe and add col names\n",
    "# creating lists\n",
    "l1 =[\"Amar\", \"Barsha\", \"Carlos\", \"Tanmay\", \"Misbah\"]\n",
    "l2 =[\"Alpha\", \"Bravo\", \"Charlie\", \"Tango\", \"Mike\"]\n",
    "l3 =[23, 25, 22, 27, 29]\n",
    "l4 =[69, 54, 73, 70, 74]\n",
    "  \n",
    "# creating the DataFrame\n",
    "team = pd.DataFrame(list(zip(l1, l2, l3, l4))) \n",
    "  \n",
    "# displaying the DataFrame\n",
    "print(team)"
   ]
  },
  {
   "cell_type": "code",
   "execution_count": 3,
   "id": "2731b892",
   "metadata": {},
   "outputs": [
    {
     "name": "stdout",
     "output_type": "stream",
     "text": [
      "     Name     Code  Age  Weight\n",
      "0    Amar    Alpha   23      69\n",
      "1  Barsha    Bravo   25      54\n",
      "2  Carlos  Charlie   22      73\n",
      "3  Tanmay    Tango   27      70\n",
      "4  Misbah     Mike   29      74\n"
     ]
    }
   ],
   "source": [
    "# adding column name to the respective columns\n",
    "team.columns = ['Name', 'Code', 'Age', 'Weight']\n",
    "  \n",
    "# displaying the DataFrame\n",
    "print(team)"
   ]
  },
  {
   "cell_type": "markdown",
   "id": "eb1a4337",
   "metadata": {},
   "source": [
    "# Basic EDA\n",
    "### Assigning col names to the df"
   ]
  },
  {
   "cell_type": "code",
   "execution_count": 4,
   "id": "bce168e8",
   "metadata": {},
   "outputs": [
    {
     "data": {
      "text/html": [
       "<div>\n",
       "<style scoped>\n",
       "    .dataframe tbody tr th:only-of-type {\n",
       "        vertical-align: middle;\n",
       "    }\n",
       "\n",
       "    .dataframe tbody tr th {\n",
       "        vertical-align: top;\n",
       "    }\n",
       "\n",
       "    .dataframe thead th {\n",
       "        text-align: right;\n",
       "    }\n",
       "</style>\n",
       "<table border=\"1\" class=\"dataframe\">\n",
       "  <thead>\n",
       "    <tr style=\"text-align: right;\">\n",
       "      <th></th>\n",
       "      <th>age</th>\n",
       "      <th>workclass</th>\n",
       "      <th>fnlgt</th>\n",
       "      <th>education</th>\n",
       "      <th>education_num</th>\n",
       "      <th>marital_status</th>\n",
       "      <th>occupation</th>\n",
       "      <th>relationship</th>\n",
       "      <th>race</th>\n",
       "      <th>sex</th>\n",
       "      <th>capital_gain</th>\n",
       "      <th>capital_loss</th>\n",
       "      <th>hours_per_week</th>\n",
       "      <th>native_country</th>\n",
       "      <th>salary</th>\n",
       "    </tr>\n",
       "  </thead>\n",
       "  <tbody>\n",
       "    <tr>\n",
       "      <th>0</th>\n",
       "      <td>39</td>\n",
       "      <td>State-gov</td>\n",
       "      <td>77516</td>\n",
       "      <td>Bachelors</td>\n",
       "      <td>13</td>\n",
       "      <td>Never-married</td>\n",
       "      <td>Adm-clerical</td>\n",
       "      <td>Not-in-family</td>\n",
       "      <td>White</td>\n",
       "      <td>Male</td>\n",
       "      <td>2174</td>\n",
       "      <td>0</td>\n",
       "      <td>40</td>\n",
       "      <td>United-States</td>\n",
       "      <td>&lt;=50K</td>\n",
       "    </tr>\n",
       "    <tr>\n",
       "      <th>1</th>\n",
       "      <td>50</td>\n",
       "      <td>Self-emp-not-inc</td>\n",
       "      <td>83311</td>\n",
       "      <td>Bachelors</td>\n",
       "      <td>13</td>\n",
       "      <td>Married-civ-spouse</td>\n",
       "      <td>Exec-managerial</td>\n",
       "      <td>Husband</td>\n",
       "      <td>White</td>\n",
       "      <td>Male</td>\n",
       "      <td>0</td>\n",
       "      <td>0</td>\n",
       "      <td>13</td>\n",
       "      <td>United-States</td>\n",
       "      <td>&lt;=50K</td>\n",
       "    </tr>\n",
       "    <tr>\n",
       "      <th>2</th>\n",
       "      <td>38</td>\n",
       "      <td>Private</td>\n",
       "      <td>215646</td>\n",
       "      <td>HS-grad</td>\n",
       "      <td>9</td>\n",
       "      <td>Divorced</td>\n",
       "      <td>Handlers-cleaners</td>\n",
       "      <td>Not-in-family</td>\n",
       "      <td>White</td>\n",
       "      <td>Male</td>\n",
       "      <td>0</td>\n",
       "      <td>0</td>\n",
       "      <td>40</td>\n",
       "      <td>United-States</td>\n",
       "      <td>&lt;=50K</td>\n",
       "    </tr>\n",
       "    <tr>\n",
       "      <th>3</th>\n",
       "      <td>53</td>\n",
       "      <td>Private</td>\n",
       "      <td>234721</td>\n",
       "      <td>11th</td>\n",
       "      <td>7</td>\n",
       "      <td>Married-civ-spouse</td>\n",
       "      <td>Handlers-cleaners</td>\n",
       "      <td>Husband</td>\n",
       "      <td>Black</td>\n",
       "      <td>Male</td>\n",
       "      <td>0</td>\n",
       "      <td>0</td>\n",
       "      <td>40</td>\n",
       "      <td>United-States</td>\n",
       "      <td>&lt;=50K</td>\n",
       "    </tr>\n",
       "    <tr>\n",
       "      <th>4</th>\n",
       "      <td>28</td>\n",
       "      <td>Private</td>\n",
       "      <td>338409</td>\n",
       "      <td>Bachelors</td>\n",
       "      <td>13</td>\n",
       "      <td>Married-civ-spouse</td>\n",
       "      <td>Prof-specialty</td>\n",
       "      <td>Wife</td>\n",
       "      <td>Black</td>\n",
       "      <td>Female</td>\n",
       "      <td>0</td>\n",
       "      <td>0</td>\n",
       "      <td>40</td>\n",
       "      <td>Cuba</td>\n",
       "      <td>&lt;=50K</td>\n",
       "    </tr>\n",
       "  </tbody>\n",
       "</table>\n",
       "</div>"
      ],
      "text/plain": [
       "   age          workclass   fnlgt   education  education_num  \\\n",
       "0   39          State-gov   77516   Bachelors             13   \n",
       "1   50   Self-emp-not-inc   83311   Bachelors             13   \n",
       "2   38            Private  215646     HS-grad              9   \n",
       "3   53            Private  234721        11th              7   \n",
       "4   28            Private  338409   Bachelors             13   \n",
       "\n",
       "        marital_status          occupation    relationship    race      sex  \\\n",
       "0        Never-married        Adm-clerical   Not-in-family   White     Male   \n",
       "1   Married-civ-spouse     Exec-managerial         Husband   White     Male   \n",
       "2             Divorced   Handlers-cleaners   Not-in-family   White     Male   \n",
       "3   Married-civ-spouse   Handlers-cleaners         Husband   Black     Male   \n",
       "4   Married-civ-spouse      Prof-specialty            Wife   Black   Female   \n",
       "\n",
       "   capital_gain  capital_loss  hours_per_week  native_country  salary  \n",
       "0          2174             0              40   United-States   <=50K  \n",
       "1             0             0              13   United-States   <=50K  \n",
       "2             0             0              40   United-States   <=50K  \n",
       "3             0             0              40   United-States   <=50K  \n",
       "4             0             0              40            Cuba   <=50K  "
      ]
     },
     "execution_count": 4,
     "metadata": {},
     "output_type": "execute_result"
    }
   ],
   "source": [
    "census_df.columns = ['age', 'workclass', 'fnlgt', 'education', 'education_num',\n",
    "       'marital_status', 'occupation', 'relationship', 'race', 'sex',\n",
    "       'capital_gain', 'capital_loss', 'hours_per_week', 'native_country',\n",
    "       'salary']\n",
    "census_df.head() "
   ]
  },
  {
   "cell_type": "code",
   "execution_count": 5,
   "id": "7bf4e7df",
   "metadata": {},
   "outputs": [
    {
     "data": {
      "text/plain": [
       "age               0\n",
       "workclass         0\n",
       "fnlgt             0\n",
       "education         0\n",
       "education_num     0\n",
       "marital_status    0\n",
       "occupation        0\n",
       "relationship      0\n",
       "race              0\n",
       "sex               0\n",
       "capital_gain      0\n",
       "capital_loss      0\n",
       "hours_per_week    0\n",
       "native_country    0\n",
       "salary            0\n",
       "dtype: int64"
      ]
     },
     "execution_count": 5,
     "metadata": {},
     "output_type": "execute_result"
    }
   ],
   "source": [
    "#No missing data points\n",
    "census_df.isnull().sum()"
   ]
  },
  {
   "cell_type": "markdown",
   "id": "de867f84",
   "metadata": {},
   "source": [
    "## checking basic stat"
   ]
  },
  {
   "cell_type": "code",
   "execution_count": 6,
   "id": "57bcebbb",
   "metadata": {},
   "outputs": [
    {
     "data": {
      "text/html": [
       "<div>\n",
       "<style scoped>\n",
       "    .dataframe tbody tr th:only-of-type {\n",
       "        vertical-align: middle;\n",
       "    }\n",
       "\n",
       "    .dataframe tbody tr th {\n",
       "        vertical-align: top;\n",
       "    }\n",
       "\n",
       "    .dataframe thead th {\n",
       "        text-align: right;\n",
       "    }\n",
       "</style>\n",
       "<table border=\"1\" class=\"dataframe\">\n",
       "  <thead>\n",
       "    <tr style=\"text-align: right;\">\n",
       "      <th></th>\n",
       "      <th>age</th>\n",
       "      <th>fnlgt</th>\n",
       "      <th>education_num</th>\n",
       "      <th>capital_gain</th>\n",
       "      <th>capital_loss</th>\n",
       "      <th>hours_per_week</th>\n",
       "    </tr>\n",
       "  </thead>\n",
       "  <tbody>\n",
       "    <tr>\n",
       "      <th>count</th>\n",
       "      <td>32561.000000</td>\n",
       "      <td>3.256100e+04</td>\n",
       "      <td>32561.000000</td>\n",
       "      <td>32561.000000</td>\n",
       "      <td>32561.000000</td>\n",
       "      <td>32561.000000</td>\n",
       "    </tr>\n",
       "    <tr>\n",
       "      <th>mean</th>\n",
       "      <td>38.581647</td>\n",
       "      <td>1.897784e+05</td>\n",
       "      <td>10.080679</td>\n",
       "      <td>1077.648844</td>\n",
       "      <td>87.303830</td>\n",
       "      <td>40.437456</td>\n",
       "    </tr>\n",
       "    <tr>\n",
       "      <th>std</th>\n",
       "      <td>13.640433</td>\n",
       "      <td>1.055500e+05</td>\n",
       "      <td>2.572720</td>\n",
       "      <td>7385.292085</td>\n",
       "      <td>402.960219</td>\n",
       "      <td>12.347429</td>\n",
       "    </tr>\n",
       "    <tr>\n",
       "      <th>min</th>\n",
       "      <td>17.000000</td>\n",
       "      <td>1.228500e+04</td>\n",
       "      <td>1.000000</td>\n",
       "      <td>0.000000</td>\n",
       "      <td>0.000000</td>\n",
       "      <td>1.000000</td>\n",
       "    </tr>\n",
       "    <tr>\n",
       "      <th>25%</th>\n",
       "      <td>28.000000</td>\n",
       "      <td>1.178270e+05</td>\n",
       "      <td>9.000000</td>\n",
       "      <td>0.000000</td>\n",
       "      <td>0.000000</td>\n",
       "      <td>40.000000</td>\n",
       "    </tr>\n",
       "    <tr>\n",
       "      <th>50%</th>\n",
       "      <td>37.000000</td>\n",
       "      <td>1.783560e+05</td>\n",
       "      <td>10.000000</td>\n",
       "      <td>0.000000</td>\n",
       "      <td>0.000000</td>\n",
       "      <td>40.000000</td>\n",
       "    </tr>\n",
       "    <tr>\n",
       "      <th>75%</th>\n",
       "      <td>48.000000</td>\n",
       "      <td>2.370510e+05</td>\n",
       "      <td>12.000000</td>\n",
       "      <td>0.000000</td>\n",
       "      <td>0.000000</td>\n",
       "      <td>45.000000</td>\n",
       "    </tr>\n",
       "    <tr>\n",
       "      <th>max</th>\n",
       "      <td>90.000000</td>\n",
       "      <td>1.484705e+06</td>\n",
       "      <td>16.000000</td>\n",
       "      <td>99999.000000</td>\n",
       "      <td>4356.000000</td>\n",
       "      <td>99.000000</td>\n",
       "    </tr>\n",
       "  </tbody>\n",
       "</table>\n",
       "</div>"
      ],
      "text/plain": [
       "                age         fnlgt  education_num  capital_gain  capital_loss  \\\n",
       "count  32561.000000  3.256100e+04   32561.000000  32561.000000  32561.000000   \n",
       "mean      38.581647  1.897784e+05      10.080679   1077.648844     87.303830   \n",
       "std       13.640433  1.055500e+05       2.572720   7385.292085    402.960219   \n",
       "min       17.000000  1.228500e+04       1.000000      0.000000      0.000000   \n",
       "25%       28.000000  1.178270e+05       9.000000      0.000000      0.000000   \n",
       "50%       37.000000  1.783560e+05      10.000000      0.000000      0.000000   \n",
       "75%       48.000000  2.370510e+05      12.000000      0.000000      0.000000   \n",
       "max       90.000000  1.484705e+06      16.000000  99999.000000   4356.000000   \n",
       "\n",
       "       hours_per_week  \n",
       "count    32561.000000  \n",
       "mean        40.437456  \n",
       "std         12.347429  \n",
       "min          1.000000  \n",
       "25%         40.000000  \n",
       "50%         40.000000  \n",
       "75%         45.000000  \n",
       "max         99.000000  "
      ]
     },
     "execution_count": 6,
     "metadata": {},
     "output_type": "execute_result"
    }
   ],
   "source": [
    "census_df.describe()"
   ]
  },
  {
   "cell_type": "markdown",
   "id": "a08abb20",
   "metadata": {},
   "source": [
    "## check whether the dataset is balanced or not"
   ]
  },
  {
   "cell_type": "code",
   "execution_count": 7,
   "id": "662cb05a",
   "metadata": {},
   "outputs": [
    {
     "data": {
      "text/plain": [
       " <=50K    0.75919\n",
       " >50K     0.24081\n",
       "Name: salary, dtype: float64"
      ]
     },
     "execution_count": 7,
     "metadata": {},
     "output_type": "execute_result"
    }
   ],
   "source": [
    "census_df['salary'].value_counts(normalize = True)"
   ]
  },
  {
   "cell_type": "markdown",
   "id": "174421aa",
   "metadata": {},
   "source": [
    "## Above EDA can be put in to single function"
   ]
  },
  {
   "cell_type": "code",
   "execution_count": 8,
   "id": "ecfc7a1f",
   "metadata": {},
   "outputs": [],
   "source": [
    "#  Lets write one function to find out \n",
    "## missing values ,unique values ,data types  --> EDA\n",
    "def df_summary(df):\n",
    "    df_U = df.nunique()\n",
    "    df_M = df.isnull().sum()\n",
    "    df_I = df.dtypes\n",
    "    \n",
    "    ## converting all data to dataframe\n",
    "    df_U = df_U.to_frame().reset_index()\n",
    "    df_M = df_M.to_frame().reset_index()\n",
    "    df_I = df_I.to_frame().reset_index()\n",
    "    \n",
    "    ## renaming columns to default 0 to some sensible name\n",
    "    df_U = df_U.rename(columns= {0: 'Unique Data'})\n",
    "    df_M = df_M.rename(columns= {0: 'Missing Data'})\n",
    "    df_I = df_I.rename(columns= {0: 'Data Types'})\n",
    "    \n",
    "    ## concatting the 3 dataframes. Remember pd.merge can merge only 2 df at a time\n",
    "    output = pd.merge(pd.merge(df_M,df_U,on='index'),df_I,on='index')\n",
    "    \n",
    "    return output;"
   ]
  },
  {
   "cell_type": "code",
   "execution_count": 9,
   "id": "21589997",
   "metadata": {},
   "outputs": [
    {
     "data": {
      "text/html": [
       "<div>\n",
       "<style scoped>\n",
       "    .dataframe tbody tr th:only-of-type {\n",
       "        vertical-align: middle;\n",
       "    }\n",
       "\n",
       "    .dataframe tbody tr th {\n",
       "        vertical-align: top;\n",
       "    }\n",
       "\n",
       "    .dataframe thead th {\n",
       "        text-align: right;\n",
       "    }\n",
       "</style>\n",
       "<table border=\"1\" class=\"dataframe\">\n",
       "  <thead>\n",
       "    <tr style=\"text-align: right;\">\n",
       "      <th></th>\n",
       "      <th>index</th>\n",
       "      <th>Missing Data</th>\n",
       "      <th>Unique Data</th>\n",
       "      <th>Data Types</th>\n",
       "    </tr>\n",
       "  </thead>\n",
       "  <tbody>\n",
       "    <tr>\n",
       "      <th>0</th>\n",
       "      <td>age</td>\n",
       "      <td>0</td>\n",
       "      <td>73</td>\n",
       "      <td>int64</td>\n",
       "    </tr>\n",
       "    <tr>\n",
       "      <th>1</th>\n",
       "      <td>workclass</td>\n",
       "      <td>0</td>\n",
       "      <td>9</td>\n",
       "      <td>object</td>\n",
       "    </tr>\n",
       "    <tr>\n",
       "      <th>2</th>\n",
       "      <td>fnlgt</td>\n",
       "      <td>0</td>\n",
       "      <td>21648</td>\n",
       "      <td>int64</td>\n",
       "    </tr>\n",
       "    <tr>\n",
       "      <th>3</th>\n",
       "      <td>education</td>\n",
       "      <td>0</td>\n",
       "      <td>16</td>\n",
       "      <td>object</td>\n",
       "    </tr>\n",
       "    <tr>\n",
       "      <th>4</th>\n",
       "      <td>education_num</td>\n",
       "      <td>0</td>\n",
       "      <td>16</td>\n",
       "      <td>int64</td>\n",
       "    </tr>\n",
       "    <tr>\n",
       "      <th>5</th>\n",
       "      <td>marital_status</td>\n",
       "      <td>0</td>\n",
       "      <td>7</td>\n",
       "      <td>object</td>\n",
       "    </tr>\n",
       "    <tr>\n",
       "      <th>6</th>\n",
       "      <td>occupation</td>\n",
       "      <td>0</td>\n",
       "      <td>15</td>\n",
       "      <td>object</td>\n",
       "    </tr>\n",
       "    <tr>\n",
       "      <th>7</th>\n",
       "      <td>relationship</td>\n",
       "      <td>0</td>\n",
       "      <td>6</td>\n",
       "      <td>object</td>\n",
       "    </tr>\n",
       "    <tr>\n",
       "      <th>8</th>\n",
       "      <td>race</td>\n",
       "      <td>0</td>\n",
       "      <td>5</td>\n",
       "      <td>object</td>\n",
       "    </tr>\n",
       "    <tr>\n",
       "      <th>9</th>\n",
       "      <td>sex</td>\n",
       "      <td>0</td>\n",
       "      <td>2</td>\n",
       "      <td>object</td>\n",
       "    </tr>\n",
       "    <tr>\n",
       "      <th>10</th>\n",
       "      <td>capital_gain</td>\n",
       "      <td>0</td>\n",
       "      <td>119</td>\n",
       "      <td>int64</td>\n",
       "    </tr>\n",
       "    <tr>\n",
       "      <th>11</th>\n",
       "      <td>capital_loss</td>\n",
       "      <td>0</td>\n",
       "      <td>92</td>\n",
       "      <td>int64</td>\n",
       "    </tr>\n",
       "    <tr>\n",
       "      <th>12</th>\n",
       "      <td>hours_per_week</td>\n",
       "      <td>0</td>\n",
       "      <td>94</td>\n",
       "      <td>int64</td>\n",
       "    </tr>\n",
       "    <tr>\n",
       "      <th>13</th>\n",
       "      <td>native_country</td>\n",
       "      <td>0</td>\n",
       "      <td>42</td>\n",
       "      <td>object</td>\n",
       "    </tr>\n",
       "    <tr>\n",
       "      <th>14</th>\n",
       "      <td>salary</td>\n",
       "      <td>0</td>\n",
       "      <td>2</td>\n",
       "      <td>object</td>\n",
       "    </tr>\n",
       "  </tbody>\n",
       "</table>\n",
       "</div>"
      ],
      "text/plain": [
       "             index  Missing Data  Unique Data Data Types\n",
       "0              age             0           73      int64\n",
       "1        workclass             0            9     object\n",
       "2            fnlgt             0        21648      int64\n",
       "3        education             0           16     object\n",
       "4    education_num             0           16      int64\n",
       "5   marital_status             0            7     object\n",
       "6       occupation             0           15     object\n",
       "7     relationship             0            6     object\n",
       "8             race             0            5     object\n",
       "9              sex             0            2     object\n",
       "10    capital_gain             0          119      int64\n",
       "11    capital_loss             0           92      int64\n",
       "12  hours_per_week             0           94      int64\n",
       "13  native_country             0           42     object\n",
       "14          salary             0            2     object"
      ]
     },
     "execution_count": 9,
     "metadata": {},
     "output_type": "execute_result"
    }
   ],
   "source": [
    "df_summary(census_df)"
   ]
  },
  {
   "cell_type": "markdown",
   "id": "b4e704bf",
   "metadata": {},
   "source": [
    "## Incase you had miss_classified cols:"
   ]
  },
  {
   "cell_type": "code",
   "execution_count": 10,
   "id": "a9d92749",
   "metadata": {},
   "outputs": [],
   "source": [
    "## Seems the variables is wrongly classified as object data type .\n",
    "## We will convert it into Numerical\n",
    "#eg. if salary col is miss classified as object\n",
    "#census_df.salary = pd.to_numeric(census_df.salary, errors='coerce')\n",
    "## Note : errors{‘ignore’, ‘raise’, ‘coerce’}, default ‘raise’\n",
    "## If ‘raise’, then invalid parsing will raise an exception.\n",
    "## If ‘coerce’, then invalid parsing will be set as NaN.\n",
    "## If ‘ignore’, then invalid parsing will return the input.\n",
    "## More here : https://pandas.pydata.org/pandas-docs/stable/reference/api/pandas.to_numeric.html\n",
    "#census_df.salary.describe()"
   ]
  },
  {
   "cell_type": "code",
   "execution_count": 11,
   "id": "b06db055",
   "metadata": {},
   "outputs": [],
   "source": [
    "## Lets seperate Object Columns and Numerical Columns \n",
    "\n",
    "Num_Cols=census_df.select_dtypes(include=['int64']).columns.tolist()\n",
    "#if there would have been more that one type of numeric data type\n",
    "#Num_Cols=Tdata.select_dtypes(include=['float64','int64']).columns.tolist()\n",
    "cat_col=census_df.select_dtypes(include=['object']).columns.tolist()\n",
    "\n",
    "## Why we should do this ?\n",
    "## Numrical and categorical colns need different kinds of processing \n",
    "## like Numrical colmns need scaling\n",
    "## and Categorical colns need feature engineeering like one-hot encoding "
   ]
  },
  {
   "cell_type": "code",
   "execution_count": 12,
   "id": "5882adf8",
   "metadata": {},
   "outputs": [
    {
     "name": "stdout",
     "output_type": "stream",
     "text": [
      "Variable : workclass\n",
      "Count of unique values : 9\n",
      "Unique values :  {' Never-worked', ' Self-emp-inc', ' Federal-gov', ' Private', ' Local-gov', ' Without-pay', ' State-gov', ' ?', ' Self-emp-not-inc'}\n",
      "================================\n",
      "Variable : education\n",
      "Count of unique values : 16\n",
      "Unique values :  {' Assoc-voc', ' 11th', ' 1st-4th', ' Preschool', ' Masters', ' 12th', ' Assoc-acdm', ' HS-grad', ' Doctorate', ' Some-college', ' 10th', ' Prof-school', ' Bachelors', ' 7th-8th', ' 9th', ' 5th-6th'}\n",
      "================================\n",
      "Variable : marital_status\n",
      "Count of unique values : 7\n",
      "Unique values :  {' Married-spouse-absent', ' Widowed', ' Separated', ' Divorced', ' Married-AF-spouse', ' Married-civ-spouse', ' Never-married'}\n",
      "================================\n",
      "Variable : occupation\n",
      "Count of unique values : 15\n",
      "Unique values :  {' Other-service', ' Craft-repair', ' Machine-op-inspct', ' Priv-house-serv', ' Handlers-cleaners', ' Farming-fishing', ' Tech-support', ' ?', ' Armed-Forces', ' Transport-moving', ' Adm-clerical', ' Protective-serv', ' Sales', ' Prof-specialty', ' Exec-managerial'}\n",
      "================================\n",
      "Variable : relationship\n",
      "Count of unique values : 6\n",
      "Unique values :  {' Own-child', ' Wife', ' Not-in-family', ' Other-relative', ' Husband', ' Unmarried'}\n",
      "================================\n",
      "Variable : race\n",
      "Count of unique values : 5\n",
      "Unique values :  {' Amer-Indian-Eskimo', ' Other', ' Black', ' Asian-Pac-Islander', ' White'}\n",
      "================================\n",
      "Variable : sex\n",
      "Count of unique values : 2\n",
      "Unique values :  {' Female', ' Male'}\n",
      "================================\n",
      "Variable : native_country\n",
      "Count of unique values : 42\n",
      "Unique values :  {' Iran', ' Canada', ' Portugal', ' Yugoslavia', ' Cambodia', ' Haiti', ' El-Salvador', ' Taiwan', ' Scotland', ' Columbia', ' Italy', ' China', ' Thailand', ' Cuba', ' France', ' Ecuador', ' Holand-Netherlands', ' Guatemala', ' Peru', ' Philippines', ' Ireland', ' Hong', ' Honduras', ' Mexico', ' India', ' England', ' Hungary', ' Trinadad&Tobago', ' Puerto-Rico', ' South', ' United-States', ' Jamaica', ' Outlying-US(Guam-USVI-etc)', ' Vietnam', ' Nicaragua', ' Dominican-Republic', ' Laos', ' ?', ' Poland', ' Greece', ' Japan', ' Germany'}\n",
      "================================\n",
      "Variable : salary\n",
      "Count of unique values : 2\n",
      "Unique values :  {' >50K', ' <=50K'}\n",
      "================================\n"
     ]
    }
   ],
   "source": [
    "# Creating function to see all the object data type variables \n",
    "## using single function\n",
    "def cat_col_desc(data):\n",
    "    col_list = data.select_dtypes(include=['object']).columns.tolist()\n",
    "    for i in col_list: \n",
    "        print(\"Variable :\", i)\n",
    "        print(\"Count of unique values :\", len(set( data[i])))\n",
    "        print(\"Unique values : \" ,set( data[i]))\n",
    "        print(\"================================\")\n",
    "        \n",
    "cat_col_desc(census_df)\n",
    "\n",
    "# alternative way\n",
    "# cat_col = census_df.select_dtypes(include=[object]).columns\n",
    "# for col in cat_col:\n",
    "#     print(\"column {} -> {}\\n\".format(col, census_df[col].unique()))"
   ]
  },
  {
   "cell_type": "markdown",
   "id": "beafa75c",
   "metadata": {},
   "source": [
    "## Drop rows with '?'"
   ]
  },
  {
   "cell_type": "code",
   "execution_count": 13,
   "id": "9a4dadcc",
   "metadata": {},
   "outputs": [
    {
     "name": "stdout",
     "output_type": "stream",
     "text": [
      "number of ? in column workclass -> 1836\n",
      "number of ? in column education -> 0\n",
      "number of ? in column marital_status -> 0\n",
      "number of ? in column occupation -> 1843\n",
      "number of ? in column relationship -> 0\n",
      "number of ? in column race -> 0\n",
      "number of ? in column sex -> 0\n",
      "number of ? in column native_country -> 583\n",
      "number of ? in column salary -> 0\n",
      "number of ? in column workclass -> 0\n",
      "number of ? in column education -> 0\n",
      "number of ? in column marital_status -> 0\n",
      "number of ? in column occupation -> 0\n",
      "number of ? in column relationship -> 0\n",
      "number of ? in column race -> 0\n",
      "number of ? in column sex -> 0\n",
      "number of ? in column native_country -> 0\n",
      "number of ? in column salary -> 0\n"
     ]
    }
   ],
   "source": [
    "# count '?' in each cat column\n",
    "for col in cat_col:\n",
    "    filt = census_df[col] == ' ?'\n",
    "    print(\"number of ? in column {} -> {}\".format(col, filt.sum()))\n",
    "\n",
    "# Drop rows with '?'\n",
    "census_df = census_df[census_df['workclass'] != '?']\n",
    "census_df = census_df[census_df['occupation'] != '?']\n",
    "census_df = census_df[census_df['native_country'] != '?']\n",
    "\n",
    "for col in cat_col:\n",
    "    filt = census_df[col] == '?'\n",
    "    print(\"number of ? in column {} -> {}\".format(col, filt.sum()))"
   ]
  },
  {
   "cell_type": "code",
   "execution_count": 14,
   "id": "59238cda",
   "metadata": {},
   "outputs": [
    {
     "name": "stdout",
     "output_type": "stream",
     "text": [
      "Variable : workclass\n",
      "Count of unique values : 9\n",
      "Unique values :  {' Never-worked', ' Self-emp-inc', ' Federal-gov', ' Private', ' Local-gov', ' Without-pay', ' State-gov', ' ?', ' Self-emp-not-inc'}\n",
      "================================\n",
      "Variable : education\n",
      "Count of unique values : 16\n",
      "Unique values :  {' Assoc-voc', ' 11th', ' 1st-4th', ' Preschool', ' Masters', ' 12th', ' Assoc-acdm', ' HS-grad', ' Doctorate', ' Some-college', ' 10th', ' Prof-school', ' Bachelors', ' 7th-8th', ' 9th', ' 5th-6th'}\n",
      "================================\n",
      "Variable : marital_status\n",
      "Count of unique values : 7\n",
      "Unique values :  {' Married-spouse-absent', ' Widowed', ' Separated', ' Divorced', ' Married-AF-spouse', ' Married-civ-spouse', ' Never-married'}\n",
      "================================\n",
      "Variable : occupation\n",
      "Count of unique values : 15\n",
      "Unique values :  {' Other-service', ' Craft-repair', ' Machine-op-inspct', ' Priv-house-serv', ' Handlers-cleaners', ' Farming-fishing', ' Tech-support', ' ?', ' Armed-Forces', ' Transport-moving', ' Adm-clerical', ' Protective-serv', ' Sales', ' Prof-specialty', ' Exec-managerial'}\n",
      "================================\n",
      "Variable : relationship\n",
      "Count of unique values : 6\n",
      "Unique values :  {' Own-child', ' Wife', ' Not-in-family', ' Other-relative', ' Husband', ' Unmarried'}\n",
      "================================\n",
      "Variable : race\n",
      "Count of unique values : 5\n",
      "Unique values :  {' Amer-Indian-Eskimo', ' Other', ' Black', ' Asian-Pac-Islander', ' White'}\n",
      "================================\n",
      "Variable : sex\n",
      "Count of unique values : 2\n",
      "Unique values :  {' Female', ' Male'}\n",
      "================================\n",
      "Variable : native_country\n",
      "Count of unique values : 42\n",
      "Unique values :  {' Iran', ' Canada', ' Portugal', ' Yugoslavia', ' Cambodia', ' Haiti', ' El-Salvador', ' Taiwan', ' Scotland', ' Columbia', ' Italy', ' China', ' Thailand', ' Cuba', ' France', ' Ecuador', ' Holand-Netherlands', ' Guatemala', ' Peru', ' Philippines', ' Ireland', ' Hong', ' Honduras', ' Mexico', ' India', ' England', ' Hungary', ' Trinadad&Tobago', ' Puerto-Rico', ' South', ' United-States', ' Jamaica', ' Outlying-US(Guam-USVI-etc)', ' Vietnam', ' Nicaragua', ' Dominican-Republic', ' Laos', ' ?', ' Poland', ' Greece', ' Japan', ' Germany'}\n",
      "================================\n",
      "Variable : salary\n",
      "Count of unique values : 2\n",
      "Unique values :  {' >50K', ' <=50K'}\n",
      "================================\n"
     ]
    }
   ],
   "source": [
    "cat_col_desc(census_df)"
   ]
  },
  {
   "cell_type": "code",
   "execution_count": 15,
   "id": "87e71702",
   "metadata": {},
   "outputs": [
    {
     "name": "stdout",
     "output_type": "stream",
     "text": [
      "Index(['age', 'workclass', 'fnlgt', 'education', 'education_num',\n",
      "       'marital_status', 'occupation', 'relationship', 'race', 'sex',\n",
      "       'capital_gain', 'capital_loss', 'hours_per_week', 'native_country',\n",
      "       'salary'],\n",
      "      dtype='object')\n"
     ]
    }
   ],
   "source": [
    "# clean column name\n",
    "print(census_df.columns)"
   ]
  },
  {
   "cell_type": "markdown",
   "id": "7dd9c70f",
   "metadata": {},
   "source": [
    "## If some weard character exists, use:"
   ]
  },
  {
   "cell_type": "code",
   "execution_count": 16,
   "id": "77801184",
   "metadata": {},
   "outputs": [],
   "source": [
    "#census_df.columns = census_df.columns.str.replace(' ', '') #to replace spaces\n",
    "#df.columns = df.columns.str.replace(\"_\", \"-\") #replas - by _\n",
    "#print(census_df.columns)"
   ]
  },
  {
   "cell_type": "markdown",
   "id": "d4d40756",
   "metadata": {},
   "source": [
    "## Save cleaned dataset"
   ]
  },
  {
   "cell_type": "code",
   "execution_count": 17,
   "id": "88eb1d61",
   "metadata": {},
   "outputs": [],
   "source": [
    "census_df.to_csv(\"census_eda_cleanset.csv\", index=False)"
   ]
  },
  {
   "cell_type": "markdown",
   "id": "217b5c0a",
   "metadata": {},
   "source": [
    "# ML Model Census Bureau Data Set - A Binary Classification (Salary category status)\n",
    "\n",
    "### Used libraries"
   ]
  },
  {
   "cell_type": "code",
   "execution_count": 1,
   "id": "2971b9a5",
   "metadata": {},
   "outputs": [],
   "source": [
    "import numpy as np\n",
    "import pandas as pd\n",
    "import dill as pickle\n",
    "import matplotlib.pyplot as plt\n",
    "from sklearn.utils import shuffle\n",
    "from sklearn.metrics import roc_auc_score, roc_curve\n",
    "from sklearn.linear_model import LogisticRegression\n",
    "from sklearn.ensemble import RandomForestClassifier, GradientBoostingClassifier\n",
    "from sklearn.model_selection import cross_val_score\n",
    "from sklearn.compose import make_column_transformer, ColumnTransformer\n",
    "from sklearn.pipeline import Pipeline\n",
    "from sklearn.pipeline import make_pipeline\n",
    "from sklearn.preprocessing import FunctionTransformer, OneHotEncoder, LabelBinarizer"
   ]
  },
  {
   "cell_type": "markdown",
   "id": "7ce9a872",
   "metadata": {},
   "source": [
    "# Defining Useful Functions"
   ]
  },
  {
   "cell_type": "code",
   "execution_count": 2,
   "id": "163345ad",
   "metadata": {},
   "outputs": [],
   "source": [
    "def load_file(file):\n",
    "    '''loads csv to pd dataframe'''\n",
    "    return pd.read_csv(file)\n",
    "\n",
    "# def one_hot_encode_feature_df(df, cat_vars=None, num_vars=None):\n",
    "#     '''performs one-hot encoding on all categorical variables and combines result with continuous variables'''\n",
    "#     cat_df = pd.get_dummies(df[cat_vars])\n",
    "#     num_df = df[num_vars].apply(pd.to_numeric)\n",
    "#     return pd.concat([cat_df, num_df], axis=1)#,ignore_index=False)\n",
    "\n",
    "def get_columns_from_transformer(column_transformer, input_colums):    \n",
    "    col_name = []\n",
    "\n",
    "    for transformer_in_columns in column_transformer.transformers_: #the last transformer is ColumnTransformer's 'remainder'\n",
    "        raw_col_name = transformer_in_columns[2]\n",
    "        if isinstance(transformer_in_columns[1],Pipeline): \n",
    "            transformer = transformer_in_columns[1].steps[-1][1]\n",
    "        else:\n",
    "            transformer = transformer_in_columns[1]\n",
    "        try:\n",
    "            names = transformer.get_feature_names(raw_col_name)\n",
    "        except AttributeError: # if no 'get_feature_names' function, use raw column name\n",
    "            names = raw_col_name\n",
    "        if isinstance(names,np.ndarray): # eg.\n",
    "            col_name += names.tolist()\n",
    "        elif isinstance(names,list):\n",
    "            col_name += names    \n",
    "        elif isinstance(names,str):\n",
    "            col_name.append(names)\n",
    "\n",
    "    # print(col_name)\n",
    "    return col_name\n",
    "\n",
    "def one_hot_encode_feature_df(df, col_transformer):\n",
    "    '''performs one-hot encoding on all categorical variables and combines result with continuous variables'''\n",
    "    processed_df = pd.DataFrame.sparse.from_spmatrix(col_transformer.transform(df))\n",
    "    processed_df.columns = get_columns_from_transformer(col_transformer, df.columns)\n",
    "    return(processed_df)\n",
    "\n",
    "def generate_feature_encoding(df, cat_vars=None, num_vars=None):\n",
    "    '''performs one-hot encoding on all categorical variables and combines result with continuous variables'''\n",
    "    ohe = OneHotEncoder()\n",
    "    numft = FunctionTransformer(lambda x: x.apply(pd.to_numeric), accept_sparse=True)\n",
    "    ct = ColumnTransformer(\n",
    "        [\n",
    "            (\"ohe\", ohe, cat_vars), \n",
    "            (\"nuft\", numft, num_vars)\n",
    "        ],  \n",
    "        remainder='drop')\n",
    "    \n",
    "    ct.fit(df)\n",
    "    return (ct)\n",
    "\n",
    "def get_target_df(df, target):\n",
    "    '''returns target dataframe'''\n",
    "    df.pop(target_var)\n",
    "    return df[target]\n",
    "\n",
    "def train_model(model, feature_df, target_df, num_procs, roc_auc_dict, cv_std):\n",
    "    '''performs cross validation with the model provided ad stores results in dictionaries'''\n",
    "    roc_auc = cross_val_score(model, feature_df, target_df, cv=5, n_jobs=num_procs, scoring='roc_auc_ovr')\n",
    "    roc_auc_dict[model] = roc_auc\n",
    "    cv_std[model] = np.std(roc_auc)\n",
    "    # import sklearn.metrics\n",
    "    # sorted(sklearn.metrics.SCORERS.keys())\n",
    "\n",
    "\n",
    "def get_best_model(roc_auc_dict):\n",
    "    '''return the model with the best performance'''\n",
    "    best_score = 0\n",
    "    for key, value in roc_auc_dict.items():\n",
    "        if np.mean(value) >= best_score:\n",
    "            model = key\n",
    "    print('\\nModel with highest roc_auc:')\n",
    "    print(model)\n",
    "    return(model)\n",
    "\n",
    "def print_summary(model, roc_auc_dict, cv_std):\n",
    "    '''prints performance of the model provided'''\n",
    "    print('\\nModel:\\n', model)\n",
    "    print('Average roc_auc :\\n', roc_auc_dict[model])\n",
    "    print('Standard deviation during CV:\\n', cv_std[model])\n",
    "\n",
    "# resource: https://machinelearningmastery.com/roc-curves-and-precision-recall-curves-for-classification-in-python/\n",
    "def plot_results(model, feature_df, target_df):\n",
    "    '''plot roc curve of model provided'''\n",
    "    \n",
    "    # binarize label - 0, 1\n",
    "    lb = LabelBinarizer()\n",
    "    target_binary_df = lb.fit_transform(target_df)\n",
    "\n",
    "    # generate a no skill prediction (majority class)\n",
    "    ns_probs = [0 for _ in range(len(target_binary_df))]\n",
    "    # predict probabilities\n",
    "    model_probs = model.predict_proba(feature_df)\n",
    "    # keep probabilities for the positive outcome only\n",
    "    model_probs = model_probs[:, 1]\n",
    "\n",
    "    # calculate scores\n",
    "    ns_auc = roc_auc_score(target_df, ns_probs)\n",
    "    model_auc = roc_auc_score(target_df, model_probs)\n",
    "    \n",
    "    # summarize scores\n",
    "    print('No Skill: ROC AUC=%.3f' % (ns_auc))\n",
    "    print(str(model)+': ROC AUC=%.3f' % (model_auc))\n",
    "    \n",
    "    # calculate roc curves\n",
    "    ns_fpr, ns_tpr, _ = roc_curve(target_binary_df, ns_probs)\n",
    "    model_fpr, model_tpr, _ = roc_curve(target_binary_df, model_probs)\n",
    "    \n",
    "    # plot the roc curve for the model\n",
    "    plt.plot(ns_fpr, ns_tpr, linestyle='--', label='No Skill')\n",
    "    plt.plot(model_fpr, model_tpr, marker='.', label=str(model))\n",
    "        # axis labels\n",
    "    plt.xlabel('False Positive Rate')\n",
    "    plt.ylabel('True Positive Rate')\n",
    "    # show the legend\n",
    "    plt.legend(loc='center left', bbox_to_anchor=(1, 0.5))\n",
    "    # show the plot\n",
    "    plt.show()\n",
    "\n",
    "def save_results(model, feature_encoding_transformer, roc_auc_dict, feature_importances, model_dir):\n",
    "    '''saves feature_encoding , model summary, feature importances'''\n",
    "\n",
    "    # model\n",
    "    encoding_file_name = 'census_feature_encoding.pkl'\n",
    "    pickle.dump(feature_encoding_transformer, open(model_dir + encoding_file_name, 'wb'))\n",
    "    \n",
    "    # Model name   \n",
    "    with open(model_dir+'model.txt', 'w') as file:\n",
    "        file.write(str(model))\n",
    "    \n",
    "    # model\n",
    "    model_file_name = 'census_model.pkl'\n",
    "    pickle.dump(model, open(model_dir + model_file_name, 'wb'))\n",
    "    \n",
    "    # feature importance\n",
    "    feature_importances.to_csv(model_dir+'feature_importances.csv')"
   ]
  },
  {
   "cell_type": "markdown",
   "id": "cb7f5799",
   "metadata": {},
   "source": [
    "# Loading Data and Preprocessing"
   ]
  },
  {
   "cell_type": "code",
   "execution_count": 4,
   "id": "4e9045ca",
   "metadata": {},
   "outputs": [
    {
     "name": "stdout",
     "output_type": "stream",
     "text": [
      "Loading data\n",
      "Shuffling data\n"
     ]
    },
    {
     "data": {
      "text/plain": [
       "Index(['age', 'workclass', 'fnlgt', 'education', 'education_num',\n",
       "       'marital_status', 'occupation', 'relationship', 'race', 'sex',\n",
       "       'capital_gain', 'capital_loss', 'hours_per_week', 'native_country',\n",
       "       'salary'],\n",
       "      dtype='object')"
      ]
     },
     "metadata": {},
     "output_type": "display_data"
    },
    {
     "name": "stdout",
     "output_type": "stream",
     "text": [
      "Retrieving labels\n",
      "Encoding data\n"
     ]
    }
   ],
   "source": [
    "#define inputs\n",
    "train_file = 'census_eda_cleanset.csv'\n",
    "model_dir = 'model'\n",
    "\n",
    "#define variables\n",
    "cat_features = [\n",
    "    \"workclass\",\n",
    "    \"education\",\n",
    "    \"marital_status\",\n",
    "    \"occupation\",\n",
    "    \"relationship\",\n",
    "    \"race\",\n",
    "    \"sex\",\n",
    "    \"native_country\",\n",
    "]\n",
    "numeric_features = [\"age\",\"fnlgt\",\"education_num\",\"capital_gain\",\"capital_loss\",\"hours_per_week\"]\n",
    "target_var = \"salary\"\n",
    "\n",
    "# load data\n",
    "print(\"Loading data\")\n",
    "train_df = load_file(train_file)\n",
    "\n",
    "\n",
    "# shuffle, and reindex training data -- shuffling improves cross-validation accuracy\n",
    "print(\"Shuffling data\")\n",
    "train_df = shuffle(train_df)\n",
    "display(train_df.columns)\n",
    "\n",
    "# get target df\n",
    "print(\"Retrieving labels\")\n",
    "target_df = train_df.pop(target_var)\n",
    "\n",
    "# encode categorical data and get final feature dfs\n",
    "print(\"Encoding data\")\n",
    "ct = generate_feature_encoding(\n",
    "    train_df, cat_vars=cat_features, num_vars=numeric_features\n",
    ")\n",
    "feature_df = one_hot_encode_feature_df(train_df, ct)\n",
    "\n",
    "#ct.transformers_\n",
    "#ct.named_transformers_[\"ohe\"].get_feature_names()\n",
    "#ct.named_transformers_[\"nuft\"]\n",
    "#get_columns_from_transformer(ct, train_df.columns)\n",
    "#ct.transformers_[-1][1]\n",
    "#ct.named_transformers_[\"ohe\"]"
   ]
  },
  {
   "cell_type": "markdown",
   "id": "acadbbb7",
   "metadata": {},
   "source": [
    "## Initializing model variables"
   ]
  },
  {
   "cell_type": "code",
   "execution_count": 5,
   "id": "1bfb778c",
   "metadata": {},
   "outputs": [],
   "source": [
    "#initialize model list and dicts\n",
    "models = []\n",
    "roc_auc_dict = {}\n",
    "cv_std = {}\n",
    "res = {}\n",
    "\n",
    "#define number of processes to run in parallel\n",
    "num_procs = -1\n",
    "\n",
    "#shared model paramaters\n",
    "verbose_lvl = 0"
   ]
  },
  {
   "cell_type": "markdown",
   "id": "56068354",
   "metadata": {},
   "source": [
    "## Cross validation"
   ]
  },
  {
   "cell_type": "code",
   "execution_count": 6,
   "id": "cfc0e0df",
   "metadata": {},
   "outputs": [
    {
     "name": "stdout",
     "output_type": "stream",
     "text": [
      "Beginning cross validation\n",
      "\n",
      "Model:\n",
      " RandomForestClassifier(max_depth=25, max_features=30, min_samples_split=60,\n",
      "                       n_estimators=150, n_jobs=-1)\n",
      "Average roc_auc :\n",
      " [0.91684624 0.92285118 0.92007428 0.91625949 0.91551983]\n",
      "Standard deviation during CV:\n",
      " 0.002751988010466439\n",
      "\n",
      "Model:\n",
      " GradientBoostingClassifier(loss='exponential', max_depth=5, n_estimators=150)\n",
      "Average roc_auc :\n",
      " [0.92595663 0.93434567 0.93267208 0.92824036 0.9255955 ]\n",
      "Standard deviation during CV:\n",
      " 0.0035449882068113066\n"
     ]
    }
   ],
   "source": [
    "#create models -- hyperparameter tuning already done by hand for each model\n",
    "rf = RandomForestClassifier(n_estimators=150, n_jobs=num_procs, max_depth=25, min_samples_split=60, \\\n",
    "                           max_features=30, verbose=verbose_lvl)\n",
    "\n",
    "gbc = GradientBoostingClassifier(n_estimators=150, max_depth=5, loss='exponential', verbose=verbose_lvl)                           \n",
    "\n",
    "models.extend([rf, gbc])\n",
    "\n",
    "#parallel cross-validate models, using MSE as evaluation metric, and print summaries\n",
    "print(\"Beginning cross validation\")\n",
    "for model in models:\n",
    "    train_model(model, feature_df, target_df, num_procs, roc_auc_dict, cv_std)\n",
    "    print_summary(model, roc_auc_dict, cv_std)"
   ]
  },
  {
   "cell_type": "markdown",
   "id": "eaf3cee5",
   "metadata": {},
   "source": [
    "## Choose best performing model"
   ]
  },
  {
   "cell_type": "code",
   "execution_count": 7,
   "id": "c9697700",
   "metadata": {},
   "outputs": [
    {
     "name": "stdout",
     "output_type": "stream",
     "text": [
      "\n",
      "Model with highest roc_auc:\n",
      "GradientBoostingClassifier(loss='exponential', max_depth=5, n_estimators=150)\n",
      "Fit best performing model\n"
     ]
    },
    {
     "data": {
      "text/plain": [
       "GradientBoostingClassifier(loss='exponential', max_depth=5, n_estimators=150)"
      ]
     },
     "execution_count": 7,
     "metadata": {},
     "output_type": "execute_result"
    }
   ],
   "source": [
    "# choose model with best auc_roc\n",
    "best_model = get_best_model(roc_auc_dict)\n",
    "\n",
    "# train best model on entire dataset\n",
    "print(\"Fit best performing model\")\n",
    "best_model.fit(feature_df, target_df)"
   ]
  },
  {
   "cell_type": "code",
   "execution_count": 8,
   "id": "cc96315a",
   "metadata": {},
   "outputs": [
    {
     "name": "stdout",
     "output_type": "stream",
     "text": [
      "No Skill: ROC AUC=0.500\n",
      "GradientBoostingClassifier(loss='exponential', max_depth=5, n_estimators=150): ROC AUC=0.944\n"
     ]
    },
    {
     "data": {
      "image/png": "[encoded data removed]",
      "text/plain": [
       "<Figure size 432x288 with 1 Axes>"
      ]
     },
     "metadata": {
      "needs_background": "light"
     },
     "output_type": "display_data"
    }
   ],
   "source": [
    "plot_results(best_model, feature_df, target_df)"
   ]
  },
  {
   "cell_type": "markdown",
   "id": "524e357a",
   "metadata": {},
   "source": [
    "## Saving best model and outpout"
   ]
  },
  {
   "cell_type": "code",
   "execution_count": 9,
   "id": "8f98426d",
   "metadata": {},
   "outputs": [
    {
     "name": "stdout",
     "output_type": "stream",
     "text": [
      "Save model and featue importances\n"
     ]
    },
    {
     "data": {
      "image/png": "[encoded data removed]",
      "text/plain": [
       "<Figure size 1080x576 with 1 Axes>"
      ]
     },
     "metadata": {
      "needs_background": "light"
     },
     "output_type": "display_data"
    }
   ],
   "source": [
    "# Save feature importances\n",
    "print(\"Save model and featue importances\")\n",
    "importances = best_model.feature_importances_\n",
    "feature_importances = pd.DataFrame({'feature':feature_df.columns, 'importance':importances})\n",
    "feature_importances.sort_values(by='importance', ascending=False, inplace=True)\n",
    "feature_importances.set_index('feature', inplace=True, drop=True)\n",
    "\n",
    "# plot feature importances\n",
    "feature_importances[0:15].plot.bar(figsize=(15,8))\n",
    "plt.show()\n",
    "\n",
    "#save feature encoder, model and  results\n",
    "save_results(best_model, ct, roc_auc_dict[model], feature_importances, model_dir)"
   ]
  },
  {
   "cell_type": "code",
   "execution_count": null,
   "id": "c2763941",
   "metadata": {},
   "outputs": [],
   "source": []
  }
 ],
 "metadata": {
  "kernelspec": {
   "display_name": "Python 3",
   "language": "python",
   "name": "python3"
  },
  "language_info": {
   "codemirror_mode": {
    "name": "ipython",
    "version": 3
   },
   "file_extension": ".py",
   "mimetype": "text/x-python",
   "name": "python",
   "nbconvert_exporter": "python",
   "pygments_lexer": "ipython3",
   "version": "3.8.8"
  }
 },
 "nbformat": 4,
 "nbformat_minor": 5
}
