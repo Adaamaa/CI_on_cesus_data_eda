{
 "cells": [
  {
   "cell_type": "code",
   "execution_count": 1,
   "id": "1efdc6de",
   "metadata": {},
   "outputs": [
    {
     "name": "stdout",
     "output_type": "stream",
     "text": [
      "Available kernels:\r\n",
      "  python3    /Users/myfiles/opt/anaconda3/share/jupyter/kernels/python3\r\n"
     ]
    }
   ],
   "source": [
    "#to see where is main python is\n",
    "!jupyter kernelspec list"
   ]
  },
  {
   "cell_type": "code",
   "execution_count": 2,
   "id": "d7c6560a",
   "metadata": {},
   "outputs": [
    {
     "name": "stdout",
     "output_type": "stream",
     "text": [
      "{\r\n",
      "  \"kernelspecs\": {\r\n",
      "    \"python3\": {\r\n",
      "      \"resource_dir\": \"/Users/myfiles/opt/anaconda3/share/jupyter/kernels/python3\",\r\n",
      "      \"spec\": {\r\n",
      "        \"argv\": [\r\n",
      "          \"/Users/myfiles/opt/anaconda3/bin/python\",\r\n",
      "          \"-m\",\r\n",
      "          \"ipykernel_launcher\",\r\n",
      "          \"-f\",\r\n",
      "          \"{connection_file}\"\r\n",
      "        ],\r\n",
      "        \"env\": {},\r\n",
      "        \"display_name\": \"Python 3\",\r\n",
      "        \"language\": \"python\",\r\n",
      "        \"interrupt_mode\": \"signal\",\r\n",
      "        \"metadata\": {}\r\n",
      "      }\r\n",
      "    }\r\n",
      "  }\r\n",
      "}\r\n"
     ]
    }
   ],
   "source": [
    "#more detail\n",
    "!jupyter kernelspec list --json"
   ]
  },
  {
   "cell_type": "code",
   "execution_count": 3,
   "id": "4d180f95",
   "metadata": {},
   "outputs": [
    {
     "name": "stdout",
     "output_type": "stream",
     "text": [
      "/Users/myfiles/opt/anaconda3/bin/python\r\n"
     ]
    }
   ],
   "source": [
    "#which python is in use\n",
    "!which python"
   ]
  },
  {
   "cell_type": "code",
   "execution_count": 4,
   "id": "2218f5c2",
   "metadata": {},
   "outputs": [
    {
     "name": "stdout",
     "output_type": "stream",
     "text": [
      "/Users/myfiles/opt/anaconda3/bin/python\r\n",
      "/usr/bin/python\r\n"
     ]
    }
   ],
   "source": [
    "#to know all available pythons\n",
    "!which -a python"
   ]
  },
  {
   "cell_type": "code",
   "execution_count": 5,
   "id": "e80d4cc1",
   "metadata": {},
   "outputs": [
    {
     "name": "stdout",
     "output_type": "stream",
     "text": [
      "Python 2.7.16\r\n"
     ]
    }
   ],
   "source": [
    "!/usr/bin/python --version"
   ]
  },
  {
   "cell_type": "code",
   "execution_count": 6,
   "id": "21af6e42",
   "metadata": {},
   "outputs": [
    {
     "name": "stdout",
     "output_type": "stream",
     "text": [
      "Python 3.8.8\r\n"
     ]
    }
   ],
   "source": [
    "!/Users/myfiles/opt/anaconda3/bin/python --version"
   ]
  },
  {
   "cell_type": "code",
   "execution_count": 8,
   "id": "ef516352",
   "metadata": {},
   "outputs": [
    {
     "name": "stdout",
     "output_type": "stream",
     "text": [
      "Python 3.8.8\r\n"
     ]
    }
   ],
   "source": [
    "!python --version"
   ]
  },
  {
   "cell_type": "code",
   "execution_count": null,
   "id": "0f2e814b",
   "metadata": {},
   "outputs": [],
   "source": [
    "#to create anaconda option; run it on terminal\n",
    "python -m ipykernel install --user --name anaconda-base --display-name \"Anaconda (base)\""
   ]
  },
  {
   "cell_type": "code",
   "execution_count": 12,
   "id": "3acee604",
   "metadata": {},
   "outputs": [
    {
     "name": "stdout",
     "output_type": "stream",
     "text": [
      "Available kernels:\r\n",
      "  anaconda-base    /Users/myfiles/Library/Jupyter/kernels/anaconda-base\r\n",
      "  python3          /Users/myfiles/opt/anaconda3/share/jupyter/kernels/python3\r\n"
     ]
    }
   ],
   "source": [
    "!jupyter kernelspec list"
   ]
  },
  {
   "cell_type": "code",
   "execution_count": null,
   "id": "26c29328",
   "metadata": {},
   "outputs": [],
   "source": []
  }
 ],
 "metadata": {
  "kernelspec": {
   "display_name": "Python 3",
   "language": "python",
   "name": "python3"
  },
  "language_info": {
   "codemirror_mode": {
    "name": "ipython",
    "version": 3
   },
   "file_extension": ".py",
   "mimetype": "text/x-python",
   "name": "python",
   "nbconvert_exporter": "python",
   "pygments_lexer": "ipython3",
   "version": "3.8.8"
  }
 },
 "nbformat": 4,
 "nbformat_minor": 5
}
